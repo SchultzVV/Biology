{
 "cells": [
  {
   "cell_type": "code",
   "execution_count": 3,
   "metadata": {},
   "outputs": [],
   "source": [
    "import matplotlib.image as mpimg;import matplotlib.pyplot as plt\n",
    "import numpy as np;import pickle;import sys as s;import random as rd\n",
    "import torch;import torch.nn as nn;import torch.optim as optim\n",
    "from pandas_ods_reader import read_ods\n",
    "import sys as s"
   ]
  },
  {
   "cell_type": "code",
   "execution_count": 4,
   "metadata": {},
   "outputs": [
    {
     "name": "stdout",
     "output_type": "stream",
     "text": [
      "(44, 145)\n"
     ]
    }
   ],
   "source": [
    "def Get_Dataset_real():# Esse é o nome da função.\n",
    "    sheet = \"sheet_name\"\n",
    "    df = read_ods('data_without_low_data.ods', headers=True)\n",
    "    sheets=df.keys()\n",
    "    cells=[];    Y=[];    X=[]\n",
    "    for i in sheets:\n",
    "        cells.append(i)\n",
    "    cells.remove('time')\n",
    "    o=1\n",
    "    for i in cells:\n",
    "        o+=1\n",
    "        y=np.array(df[i])\n",
    "        y=y/max(y)\n",
    "        x=np.linspace(0,len(y),len(y))\n",
    "        Y.append(y)\n",
    "        X.append(x)\n",
    "    #Y=torch.as_tensor(Y)\n",
    "    print(np.shape(Y))\n",
    "\n",
    "    address = open(\"Y_train\",\"wb\");    pickle.dump(Y, address);    address.close()\n",
    "    return Y\n",
    "Y=Get_Dataset_real()"
   ]
  },
  {
   "cell_type": "code",
   "execution_count": 5,
   "metadata": {},
   "outputs": [
    {
     "data": {
      "image/png": "[encoded data removed]",
      "text/plain": [
       "<Figure size 432x288 with 1 Axes>"
      ]
     },
     "metadata": {
      "needs_background": "light"
     },
     "output_type": "display_data"
    }
   ],
   "source": [
    "index=rd.randint(0,np.shape(Y)[0])\n",
    "y=1*Y[index]\n",
    "x=np.linspace(0,len(y),len(y))\n",
    "plt.plot(x,y)\n",
    "plt.show()"
   ]
  },
  {
   "cell_type": "markdown",
   "metadata": {},
   "source": [
    "## Gera o dataset_1.0\n",
    "\n",
    "O dataset é composto de $$part_1=[y_0,..,y_{d/2}]$$ with dimension $d/2$ and $$label_1=[0].$$ For the initial part of the graph. Now for the second part of the graph we have $$part_2=[y_{d/2+1},...,y_d]$$ with dimension $d/2$ and with $$label_2=[1].$$"
   ]
  },
  {
   "cell_type": "code",
   "execution_count": 4,
   "metadata": {},
   "outputs": [
    {
     "name": "stdout",
     "output_type": "stream",
     "text": [
      "(80, 72)\n",
      "(8, 72)\n",
      "Input_Train torch.Size([4, 20, 72])\n",
      "Train_Labels torch.Size([4, 20, 1])\n",
      "Input_test torch.Size([4, 2, 72])\n",
      "test_Labels torch.Size([4, 2, 1])\n"
     ]
    }
   ],
   "source": [
    "''' Gera o dataset\n",
    "        O dataset é composto de $part_1=[y_0,..,y_{d/2}]$ with dimension $d/2$ and $label_1=[0]$ For the initial part of the graph.\n",
    "        For the second part of the graph we have $part_2=[y_{d/2},...,y_d]$ with dimension $d/2$ and with $label_2=[1]$.\n",
    "'''\n",
    "def gen_dataset():\n",
    "    Input=[]\n",
    "    Output=[]\n",
    "    Input_test=[]\n",
    "    Output_test=[]\n",
    "    j=0\n",
    "    for i in Y:\n",
    "        if j<40:\n",
    "\n",
    "            Y1=i[0:int(np.shape(Y)[1]/2)]\n",
    "            Input.append(Y1)\n",
    "            Output.append(0)\n",
    "            Y2=i[int(np.shape(Y)[1]/2):np.shape(Y)[1]-1]\n",
    "            Input.append(Y2)\n",
    "            Output.append(1)\n",
    "        else:\n",
    "            Y1=i[0:int(np.shape(Y)[1]/2)]\n",
    "            Input_test.append(Y1)\n",
    "            Output_test.append(0)\n",
    "            Y2=i[int(np.shape(Y)[1]/2):np.shape(Y)[1]-1]\n",
    "            Input_test.append(Y2)\n",
    "            Output_test.append(1)\n",
    "        j+=1\n",
    "    #---------------------- Salva o dataset com os 80 exemplos, ordenado em 4 grupos de 20\n",
    "    print(np.shape(Input))\n",
    "    print(np.shape(Input_test))\n",
    "    Input=np.reshape(Input,(4,20,72))\n",
    "    Output=np.reshape(Output,(4,20,1))\n",
    "    Input=torch.as_tensor(Input)\n",
    "    Output=torch.as_tensor(Output)\n",
    "    address = open(\"Input_Train\",\"wb\");    pickle.dump(Input, address);    address.close()\n",
    "    address = open(\"Train_Labels\",\"wb\");    pickle.dump(Output, address);    address.close()\n",
    "    print(\"Input_Train\",np.shape(Input))\n",
    "    print(\"Train_Labels\",np.shape(Output))\n",
    "\n",
    "    #---------------------- Salva o dataset com os 8 exemplos, ordenado em 4 grupos de 2\n",
    "    Input_test=np.reshape(Input_test,(4,2,72))\n",
    "    Output_test=np.reshape(Output_test,(4,2,1))\n",
    "    Input_test=torch.as_tensor(Input_test)\n",
    "    Output_test=torch.as_tensor(Output_test)\n",
    "    address = open(\"Input_test\",\"wb\");    pickle.dump(Input_test, address);    address.close()\n",
    "    address = open(\"test_Labels\",\"wb\");    pickle.dump(Output_test, address);    address.close()\n",
    "    print(\"Input_test\",np.shape(Input_test))\n",
    "    print(\"test_Labels\",np.shape(Output_test))\n",
    "    return Input,Output,Input_test,Output_test\n",
    "Input,Output,Input_test,Output_test=gen_dataset()"
   ]
  },
  {
   "cell_type": "code",
   "execution_count": 5,
   "metadata": {},
   "outputs": [
    {
     "name": "stdout",
     "output_type": "stream",
     "text": [
      "72\n"
     ]
    }
   ],
   "source": [
    "n_examples=np.shape(Input)[2]\n",
    "print(n_examples)"
   ]
  },
  {
   "cell_type": "code",
   "execution_count": 6,
   "metadata": {},
   "outputs": [],
   "source": [
    "#------------------DEFINE O MODELO----------------------------------------------\n",
    "#-------------------------------------------------------------------------------\n",
    "class Autoencoder(nn.Module):\n",
    "    def __init__(self):\n",
    "        super().__init__()\n",
    "        self.encoder = nn.Sequential(\n",
    "            nn.Linear(n_examples,720),\n",
    "            nn.ReLU(),\n",
    "            nn.Linear(720,1500),\n",
    "            nn.ReLU(),\n",
    "            nn.Linear(1500,2000),\n",
    "            nn.ReLU(),\n",
    "            nn.Linear(2000,500),\n",
    "            nn.ReLU(),\n",
    "            nn.Linear(500,50),\n",
    "            nn.ReLU(),\n",
    "            nn.Linear(50,1),\n",
    "            #nn.ELU()\n",
    "            #nn.Softmax()\n",
    "        )\n",
    "    def forward(self, x):\n",
    "        encoded = self.encoder(x)\n",
    "#        print(np.shape(encoded))\n",
    "#        print(np.shape(aux))\n",
    "        #decoded = self.decoder(encoded)\n",
    "        return encoded"
   ]
  },
  {
   "cell_type": "code",
   "execution_count": 7,
   "metadata": {},
   "outputs": [],
   "source": [
    "#------------------CHAMA O MODELO E INICIA CAMADAS DE PESOS ORTOGONAIS----------\n",
    "#-------------------------------------------------------------------------------\n",
    "model = Autoencoder()\n",
    "for m in model.modules():\n",
    "    if isinstance(m, (nn.Conv2d, nn.Linear)):\n",
    "        nn.init.orthogonal_(m.weight)\n",
    "criterion = nn.MSELoss()\n",
    "optimizer = torch.optim.Adam(model.parameters(),lr=1e-4,weight_decay = 1e-5)\n",
    "#optimizer = torch.optim.SGD(model.parameters(),lr=1e-4,weight_decay = 1e-5)#,momentum=0.5)"
   ]
  },
  {
   "cell_type": "code",
   "execution_count": 8,
   "metadata": {},
   "outputs": [
    {
     "name": "stdout",
     "output_type": "stream",
     "text": [
      "Epoch:1,Loss:0.3090\n",
      "Epoch:2,Loss:0.2613\n",
      "Epoch:3,Loss:0.2654\n",
      "Epoch:4,Loss:0.2504\n",
      "Epoch:5,Loss:0.2571\n",
      "Epoch:6,Loss:0.2498\n",
      "Epoch:7,Loss:0.2506\n",
      "Epoch:8,Loss:0.2495\n",
      "Epoch:9,Loss:0.2496\n",
      "Epoch:10,Loss:0.2492\n"
     ]
    },
    {
     "data": {
      "text/plain": [
       "'1000 épocas leva 9 min approx'"
      ]
     },
     "execution_count": 8,
     "metadata": {},
     "output_type": "execute_result"
    }
   ],
   "source": [
    "#-------------------------------------------------------------------------------\n",
    "#------TREINO DA IA-------------------------------------------------------------\n",
    "#-------------------------------------------------------------------------------\n",
    "def treine(epochs):\n",
    "    inp = pickle.load( open( \"Input_Train\", \"rb\" ) )\n",
    "    out =  pickle.load( open( \"Train_Labels\", \"rb\" ) )\n",
    "    n_batch=np.shape(inp)[0]\n",
    "    for epoch in range(epochs):\n",
    "        for batch_idx in range(n_batch):\n",
    "            O=inp[batch_idx]\n",
    "            A=out[batch_idx]\n",
    "            O=O.float()\n",
    "            A=A.float()\n",
    "            recon = model(O)\n",
    "            loss=torch.mean((recon-A)**2)\n",
    "            optimizer.zero_grad()\n",
    "            loss.backward()\n",
    "            optimizer.step()\n",
    "        print(f'Epoch:{epoch+1},Loss:{loss.item():.4f}')\n",
    "treine(10)\n",
    "'''1000 épocas leva 9 min approx'''"
   ]
  },
  {
   "cell_type": "code",
   "execution_count": 9,
   "metadata": {},
   "outputs": [
    {
     "data": {
      "text/plain": [
       "<All keys matched successfully>"
      ]
     },
     "execution_count": 9,
     "metadata": {},
     "output_type": "execute_result"
    }
   ],
   "source": [
    "#PATH_save='second_State_dataset_10.pt'\n",
    "#torch.save(model.state_dict(), PATH_save)\n",
    "#PATH_load='first_State_dataset_10.pt'##------- Esse estado foi treinado usando todo o conjunto de 88 exemplos\n",
    "PATH_load='second_State_dataset_10.pt'##------ Esse estado foi treinado usando todo o conjunto de 80 exemplos separando 8 pra teste\n",
    "model.load_state_dict(torch.load(PATH_load))"
   ]
  },
  {
   "cell_type": "code",
   "execution_count": 20,
   "metadata": {},
   "outputs": [
    {
     "data": {
      "image/png": "[encoded data removed]",
      "text/plain": [
       "<Figure size 432x288 with 1 Axes>"
      ]
     },
     "metadata": {
      "needs_background": "light"
     },
     "output_type": "display_data"
    },
    {
     "name": "stdout",
     "output_type": "stream",
     "text": [
      "resposta =  tensor([-0.0009], grad_fn=<SelectBackward0>)\n",
      "label =  tensor([0.])\n"
     ]
    }
   ],
   "source": [
    "def random_predict():\n",
    "    inp = pickle.load( open( \"Input_Train\", \"rb\" ) )\n",
    "    a=np.shape(inp)[0]-1\n",
    "    b=np.shape(inp)[1]-1\n",
    "    a_idx=rd.randint(0,a)\n",
    "    b_idx=rd.randint(0,b)\n",
    "    out =  pickle.load( open( \"Train_Labels\", \"rb\" ) )\n",
    "    O=inp[a_idx]\n",
    "    y=1*O[b_idx]\n",
    "    x=np.linspace(0,len(y),len(y))\n",
    "    plt.plot(x,y)\n",
    "    plt.show()  \n",
    "    A=out[a_idx]\n",
    "    O=O.float()\n",
    "    A=A.float()\n",
    "    resposta = model(O)\n",
    "    print('resposta = ',resposta[b_idx])\n",
    "    print('label = ',A[b_idx])\n",
    "random_predict()"
   ]
  },
  {
   "cell_type": "markdown",
   "metadata": {},
   "source": [
    "* Label = 0 (primeira parte do gráfico)\n",
    "* Label = 1 (segunda parte do gráfico)\n",
    "* Se a resposta for 0 quer dizer que a rede acha que o gráfico que foi apresentado é um gráfico do inicio.\n",
    "* Se a resposta for 1, a rede acha que é da segunda parte.\n"
   ]
  },
  {
   "cell_type": "code",
   "execution_count": 11,
   "metadata": {},
   "outputs": [
    {
     "data": {
      "image/png": "[encoded data removed]",
      "text/plain": [
       "<Figure size 432x288 with 1 Axes>"
      ]
     },
     "metadata": {
      "needs_background": "light"
     },
     "output_type": "display_data"
    },
    {
     "name": "stdout",
     "output_type": "stream",
     "text": [
      "resposta =  tensor([0.0005], grad_fn=<SelectBackward0>)\n",
      "label =  tensor([0.])\n"
     ]
    }
   ],
   "source": [
    "def predict_test():\n",
    "    inp = pickle.load( open( \"Input_test\", \"rb\" ) )\n",
    "    a=np.shape(inp)[0]-1\n",
    "    b=np.shape(inp)[1]-1\n",
    "    a_idx=rd.randint(0,a)\n",
    "    b_idx=rd.randint(0,b)\n",
    "    out =  pickle.load( open( \"test_Labels\", \"rb\" ) )\n",
    "    O=inp[a_idx]\n",
    "    y=1*O[b_idx]\n",
    "    x=np.linspace(0,len(y),len(y))\n",
    "    plt.plot(x,y)\n",
    "    plt.show()  \n",
    "    A=out[a_idx]\n",
    "    O=O.float()\n",
    "    A=A.float()\n",
    "    resposta = model(O)\n",
    "    print('resposta = ',resposta[b_idx])\n",
    "    print('label = ',A[b_idx])\n",
    "predict_test()\n"
   ]
  },
  {
   "cell_type": "code",
   "execution_count": 22,
   "metadata": {},
   "outputs": [
    {
     "name": "stdout",
     "output_type": "stream",
     "text": [
      "erro =  0\n",
      "acerto =  80\n"
     ]
    },
    {
     "ename": "SystemExit",
     "evalue": "",
     "output_type": "error",
     "traceback": [
      "An exception has occurred, use %tb to see the full traceback.\n",
      "\u001b[0;31mSystemExit\u001b[0m\n"
     ]
    }
   ],
   "source": [
    "def Eval_metric():\n",
    "    #inp = pickle.load( open( \"Input_test\", \"rb\" ) )\n",
    "    #out =  pickle.load( open( \"test_Labels\", \"rb\" ) )\n",
    "    inp = pickle.load( open( \"Input_Train\", \"rb\" ) )\n",
    "    out =  pickle.load( open( \"Train_Labels\", \"rb\" ) )\n",
    "    inp=inp.reshape(80,72)\n",
    "    out=out.reshape(80,1)\n",
    "    O=inp.float()\n",
    "    A=out.float()\n",
    "    resposta = model(O)\n",
    "    tolerance=0.1\n",
    "    erro=0\n",
    "    acerto=0\n",
    "    for i in range(len(resposta)):\n",
    "        if abs(resposta[i])-abs(A[i])>tolerance:\n",
    "            erro+=1\n",
    "        else:\n",
    "            acerto+=1\n",
    "    print('erro = ',erro)\n",
    "    print('acerto = ',acerto)\n",
    "\n",
    "    #for j in range(np.shape(inp)[1]):\n",
    "    #    y=1*O[j]\n",
    "    #    x=np.linspace(0,len(y),len(y))\n",
    "    #    A=out[i]\n",
    "    #    O=O.float()\n",
    "    #    A=A.float()\n",
    "    #    resposta = model(O)\n",
    "\n",
    "    s.exit()\n",
    "    a=np.shape(inp)[0]-1\n",
    "    b=np.shape(inp)[1]-1\n",
    "    a_idx=rd.randint(0,a)\n",
    "    b_idx=rd.randint(0,b)\n",
    "    O=inp[a_idx]\n",
    "    x=np.linspace(0,len(y),len(y))\n",
    "    y=1*O[b_idx]\n",
    "    #plt.plot(x,y)\n",
    "    #plt.show()  \n",
    "    A=out[a_idx]\n",
    "    O=O.float()\n",
    "    A=A.float()\n",
    "    resposta = model(O)\n",
    "    #print('resposta = ',resposta[b_idx])\n",
    "    #print('label = ',A[b_idx])\n",
    "Eval_metric()"
   ]
  },
  {
   "cell_type": "markdown",
   "metadata": {},
   "source": [
    "* Label = 0 (primeira parte do gráfico)\n",
    "* Label = 1 (segunda parte do gráfico)\n",
    "* Se a resposta for 0 quer dizer que a rede acha que o gráfico que foi apresentado é um gráfico do inicio.\n",
    "* Se a resposta for 1, a rede acha que é da segunda parte.\n"
   ]
  },
  {
   "cell_type": "markdown",
   "metadata": {},
   "source": [
    "* __Small data neural networks__\n",
    "\n",
    "https://www.ictp.it/about-ictp/media-centre/news/2021/11/tinyml.aspx#close\n",
    "* __calcular a porcentagem de erro__\n",
    "\n",
    "* __separar o dataset em 1/4 de inicio e 1/4 de  final.__\n",
    "\n",
    "\n"
   ]
  },
  {
   "cell_type": "code",
   "execution_count": null,
   "metadata": {},
   "outputs": [],
   "source": []
  }
 ],
 "metadata": {
  "interpreter": {
   "hash": "916dbcbb3f70747c44a77c7bcd40155683ae19c65e1c03b4aa3499c5328201f1"
  },
  "kernelspec": {
   "display_name": "Python 3.8.10 64-bit",
   "language": "python",
   "name": "python3"
  },
  "language_info": {
   "codemirror_mode": {
    "name": "ipython",
    "version": 3
   },
   "file_extension": ".py",
   "mimetype": "text/x-python",
   "name": "python",
   "nbconvert_exporter": "python",
   "pygments_lexer": "ipython3",
   "version": "3.10.4"
  },
  "orig_nbformat": 4
 },
 "nbformat": 4,
 "nbformat_minor": 2
}
