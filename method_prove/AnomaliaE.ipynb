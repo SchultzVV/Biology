{
 "cells": [
  {
   "cell_type": "code",
   "execution_count": 7,
   "metadata": {},
   "outputs": [],
   "source": [
    "import torch\n",
    "import plotly.graph_objects as go\n",
    "from plotly.subplots import make_subplots\n",
    "import torch.nn as nn\n",
    "import pickle\n",
    "import random as rd\n",
    "import torch.optim as optim\n",
    "import numpy as np\n",
    "import sys as s\n",
    "import matplotlib.pyplot as plt\n",
    "import math\n"
   ]
  },
  {
   "cell_type": "markdown",
   "metadata": {},
   "source": [
    "#           GERANDO O BANCO DE DADOS"
   ]
  },
  {
   "cell_type": "code",
   "execution_count": 4,
   "metadata": {},
   "outputs": [],
   "source": [
    "from Dataset_Generator import Dataset"
   ]
  },
  {
   "cell_type": "code",
   "execution_count": 5,
   "metadata": {},
   "outputs": [
    {
     "name": "stdout",
     "output_type": "stream",
     "text": [
      "XC = (2, 2, 1)\n",
      "inp = torch.Size([2, 2, 100])\n"
     ]
    }
   ],
   "source": [
    "Dataset(2,2,100)"
   ]
  },
  {
   "cell_type": "code",
   "execution_count": 8,
   "metadata": {},
   "outputs": [],
   "source": [
    "inp = pickle.load(open(\"O_train\", \"rb\"))\n",
    "out = pickle.load(open(\"O_train\", \"rb\"))\n",
    "XC = pickle.load(open(\"XC\", \"rb\"))\n",
    "n_batch = np.shape(inp)[0]\n",
    "batch_size = np.shape(inp)[1]\n",
    "n_examples = np.shape(inp)[2]"
   ]
  },
  {
   "cell_type": "markdown",
   "metadata": {},
   "source": [
    "# \n",
    "# DEFINE O MODELO\n",
    "# \n",
    "\n"
   ]
  },
  {
   "cell_type": "code",
   "execution_count": 9,
   "metadata": {},
   "outputs": [],
   "source": [
    "class Autoencoder(nn.Module):\n",
    "    def __init__(self):\n",
    "        # N, 50\n",
    "        super().__init__()\n",
    "        self.encoder = nn.Sequential(\n",
    "            nn.Linear(1, 300),\n",
    "            nn.ELU(),\n",
    "            nn.Linear(300, 600),\n",
    "            nn.ELU(),\n",
    "            nn.Linear(600, 300),\n",
    "            nn.ELU(),\n",
    "            nn.Linear(300, 1),  # > latent\n",
    "            nn.ELU(),\n",
    "        )        \n",
    "    def forward(self, x, t):\n",
    "        encoded = self.encoder(x)\n",
    "        return encoded\n",
    "\n",
    "\n",
    "# -------------------------------------------------------------------------------\n",
    "# ------------------CHAMA O MODELO E INICIA CAMADAS DE PESOS ORTOGONAIS----------\n",
    "# -------------------------------------------------------------------------------\n",
    "model = Autoencoder()\n",
    "for m in model.modules():\n",
    "    if isinstance(m, (nn.Conv2d, nn.Linear)):\n",
    "        nn.init.orthogonal_(m.weight)\n",
    "criterion = nn.MSELoss()  # segundo a investigar\n",
    "# ,lr=1e-4,weight_decay = 1e-5)\n",
    "optimizer = torch.optim.Adam(model.parameters())\n",
    "# optimizer = torch.optim.SGD(model.parameters(),lr=1e-4,weight_decay = 1e-5)#,momentum=0.5)\n",
    "# -------------------------------------------------------------------------------\n"
   ]
  },
  {
   "cell_type": "markdown",
   "metadata": {},
   "source": [
    "\n",
    "# ------TREINO DO DECODER MODIFICADO--O[5]+Q[11] >> OUTPUT[1]--------------------\n",
    "# -------------------------------------------------------------------------------"
   ]
  },
  {
   "cell_type": "code",
   "execution_count": null,
   "metadata": {},
   "outputs": [],
   "source": [
    "def treine(epochs):\n",
    "    inp = pickle.load(open(\"O\", \"rb\"))\n",
    "    out = pickle.load(open(\"O\", \"rb\"))\n",
    "    n_batch = np.shape(inp)[0]\n",
    "    batch_size = np.shape(inp)[1]\n",
    "    n_examples = np.shape(inp)[2]\n",
    "    Q_shape = np.shape(question)\n",
    "    answ = torch.as_tensor(np.zeros((batch_size, 1)))\n",
    "    indicedografico = 0\n",
    "    for epoch in range(epochs):\n",
    "        for batch_idx in range(n_batch):\n",
    "            O = inp[batch_idx]\n",
    "            Q = question[batch_idx]\n",
    "            A = out[batch_idx]\n",
    "            O = O.float()\n",
    "            Q = Q.float()\n",
    "            A = A.float()\n",
    "            recon, latent = model(O, Q)\n",
    "            loss = torch.mean((recon-A)**2)\n",
    "            optimizer.zero_grad()\n",
    "            loss.backward()\n",
    "            optimizer.step()\n",
    "        print(f'Epoch:{epoch+1},Loss:{loss.item():.4f}')\n",
    "\n",
    "\n",
    "\n",
    "treine(200)\n",
    "# print('end')\n",
    "# -------------------------------------------------------------------------------\n",
    "# --------------------- SALVANDO-------------------------------------------------\n",
    "# -------------------------------------------------------------------------------\n",
    "# PATH_save='Estado_Box_2_with_two_latent.pt'\n",
    "##PATH_load = 'Estado_Box_2_with_two_latent.pt'\n",
    "#torch.save(model.state_dict(), PATH_save)\n",
    "# s.exit()\n",
    "##model.load_state_dict(torch.load(PATH_load))\n",
    "#torch.save(model.state_dict(), PATH_save)\n"
   ]
  },
  {
   "cell_type": "markdown",
   "metadata": {},
   "source": [
    "# \n",
    "# GRÁFICOS\n",
    "# "
   ]
  },
  {
   "cell_type": "code",
   "execution_count": null,
   "metadata": {},
   "outputs": [],
   "source": [
    "def Latent_values_Scynet():\n",
    "    for aux in range(n_batch):\n",
    "        O = inp[aux].float()\n",
    "        Q = question[aux].float()\n",
    "        A = out[aux].float()\n",
    "        j = J[aux]\n",
    "        x = np.zeros(np.shape(j)[0])\n",
    "        y1 = np.zeros(np.shape(j)[0])\n",
    "        y2 = np.zeros(np.shape(j)[0])\n",
    "        recon, latent = model(O, Q)\n",
    "        for i in range(0, 499):\n",
    "            x[i] = j[i]\n",
    "            y1[i] = latent[i, 0]\n",
    "            y2[i] = latent[i, 1]\n",
    "        plt.scatter(x, y1, label='Latent Activation 1')\n",
    "        plt.scatter(x, y2, label='Latent Activation 2')\n",
    "        plt.xlabel('Momento angular total')\n",
    "        plt.ylabel('Latent Activation')\n",
    "        plt.legend()\n",
    "        plt.pause(1.5)\n",
    "        plt.close()\n",
    "\n",
    "    plt.show()\n",
    "\n",
    "\n",
    "Latent_values_Scynet()\n",
    "# s.exit()\n",
    "# -------------------------------------------------------------------------------\n"
   ]
  }
 ],
 "metadata": {
  "kernelspec": {
   "display_name": "Python 3.10.4 64-bit",
   "language": "python",
   "name": "python3"
  },
  "language_info": {
   "codemirror_mode": {
    "name": "ipython",
    "version": 3
   },
   "file_extension": ".py",
   "mimetype": "text/x-python",
   "name": "python",
   "nbconvert_exporter": "python",
   "pygments_lexer": "ipython3",
   "version": "3.10.4"
  },
  "orig_nbformat": 4,
  "vscode": {
   "interpreter": {
    "hash": "916dbcbb3f70747c44a77c7bcd40155683ae19c65e1c03b4aa3499c5328201f1"
   }
  }
 },
 "nbformat": 4,
 "nbformat_minor": 2
}
