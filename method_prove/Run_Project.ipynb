{
 "cells": [
  {
   "cell_type": "code",
   "execution_count": 1,
   "metadata": {},
   "outputs": [],
   "source": [
    "import torch\n",
    "import plotly.graph_objects as go\n",
    "from plotly.subplots import make_subplots\n",
    "import torch.nn as nn\n",
    "import pickle\n",
    "import random as rd\n",
    "import torch.optim as optim\n",
    "import numpy as np\n",
    "import sys as s\n",
    "import matplotlib.pyplot as plt\n",
    "import math\n"
   ]
  },
  {
   "cell_type": "markdown",
   "metadata": {},
   "source": [
    "#           GERANDO O BANCO DE DADOS"
   ]
  },
  {
   "cell_type": "code",
   "execution_count": 56,
   "metadata": {},
   "outputs": [],
   "source": [
    "from Dataset_Generator import Dataset"
   ]
  },
  {
   "cell_type": "code",
   "execution_count": 18,
   "metadata": {},
   "outputs": [
    {
     "name": "stdout",
     "output_type": "stream",
     "text": [
      "XC = (1, 10, 1)\n",
      "inp = torch.Size([1, 10, 50])\n",
      "out = torch.Size([1, 10, 50])\n"
     ]
    }
   ],
   "source": [
    "Dataset(1,10,50)"
   ]
  },
  {
   "cell_type": "code",
   "execution_count": 41,
   "metadata": {},
   "outputs": [
    {
     "name": "stdout",
     "output_type": "stream",
     "text": [
      "(1, 10, 1)\n"
     ]
    }
   ],
   "source": [
    "print(np.shape(XC))"
   ]
  },
  {
   "cell_type": "code",
   "execution_count": 19,
   "metadata": {},
   "outputs": [],
   "source": [
    "inp = pickle.load(open(\"inp\", \"rb\"))\n",
    "out = pickle.load(open(\"out\", \"rb\"))\n",
    "XC = pickle.load(open(\"XC\", \"rb\"))\n",
    "n_batch = np.shape(inp)[0]\n",
    "batch_size = np.shape(inp)[1]\n",
    "n_examples = np.shape(inp)[2]"
   ]
  },
  {
   "cell_type": "code",
   "execution_count": 20,
   "metadata": {},
   "outputs": [],
   "source": [
    "inp = pickle.load(open(\"inp\", \"rb\"))\n",
    "inp = torch.as_tensor(inp.reshape(10, 50, 1))\n",
    "out = torch.as_tensor(out.reshape(10, 50, 1))"
   ]
  },
  {
   "cell_type": "code",
   "execution_count": 21,
   "metadata": {},
   "outputs": [
    {
     "name": "stdout",
     "output_type": "stream",
     "text": [
      "tensor([2.0408], dtype=torch.float64)\n",
      "tensor([0.8916])\n"
     ]
    }
   ],
   "source": [
    "print(inp[0][2])\n",
    "print(out[0][2])"
   ]
  },
  {
   "cell_type": "markdown",
   "metadata": {},
   "source": [
    "# \n",
    "# DEFINE O MODELO\n",
    "# \n",
    "\n"
   ]
  },
  {
   "cell_type": "code",
   "execution_count": 52,
   "metadata": {},
   "outputs": [],
   "source": [
    "class Autoencoder(nn.Module):\n",
    "    def __init__(self):\n",
    "        # N, 50\n",
    "        super().__init__()\n",
    "        self.encoder = nn.Sequential(\n",
    "            nn.Linear(1, 300),\n",
    "            nn.ELU(),\n",
    "            nn.Linear(300, 600),\n",
    "            nn.ELU(),\n",
    "            nn.Linear(600, 300),\n",
    "            nn.ELU(),\n",
    "            nn.Linear(300, 1),\n",
    "            nn.ELU(),\n",
    "        )        \n",
    "    def forward(self, x):\n",
    "        encoded = self.encoder(x)\n",
    "        return encoded\n",
    "\n",
    "\n",
    "# -------------------------------------------------------------------------------\n",
    "# ------------------CHAMA O MODELO E INICIA CAMADAS DE PESOS ORTOGONAIS----------\n",
    "# -------------------------------------------------------------------------------\n",
    "model = Autoencoder()\n",
    "for m in model.modules():\n",
    "    if isinstance(m, (nn.Conv2d, nn.Linear)):\n",
    "        nn.init.orthogonal_(m.weight)\n",
    "criterion = nn.MSELoss()  # segundo a investigar\n",
    "# ,lr=1e-4,weight_decay = 1e-5)\n",
    "optimizer = torch.optim.Adam(model.parameters())\n",
    "# optimizer = torch.optim.SGD(model.parameters(),lr=1e-4,weight_decay = 1e-5)#,momentum=0.5)\n",
    "# -------------------------------------------------------------------------------\n"
   ]
  },
  {
   "cell_type": "markdown",
   "metadata": {},
   "source": [
    "\n",
    "# ------TREINO DO DECODER MODIFICADO--O[5]+Q[11] >> OUTPUT[1]--------------------\n",
    "# -------------------------------------------------------------------------------"
   ]
  },
  {
   "cell_type": "code",
   "execution_count": 43,
   "metadata": {},
   "outputs": [
    {
     "data": {
      "image/png": "[encoded data removed]",
      "text/plain": [
       "<Figure size 432x288 with 1 Axes>"
      ]
     },
     "metadata": {
      "needs_background": "light"
     },
     "output_type": "display_data"
    }
   ],
   "source": [
    "#inp = pickle.load(open(\"inp\", \"rb\"))\n",
    "#out = pickle.load(open(\"out\", \"rb\"))\n",
    "#for i in range()\n",
    "plt.plot(inp[3],out[3])\n",
    "plt.show()"
   ]
  },
  {
   "cell_type": "code",
   "execution_count": 54,
   "metadata": {},
   "outputs": [
    {
     "name": "stdout",
     "output_type": "stream",
     "text": [
      "Epoch:1,Loss:1.2370\n",
      "Epoch:2,Loss:1.2370\n",
      "Epoch:3,Loss:1.2370\n",
      "Epoch:4,Loss:1.2370\n",
      "Epoch:5,Loss:1.2370\n",
      "Epoch:6,Loss:1.2370\n",
      "Epoch:7,Loss:1.2370\n",
      "Epoch:8,Loss:1.2370\n",
      "Epoch:9,Loss:1.2370\n",
      "Epoch:10,Loss:1.2370\n",
      "Epoch:11,Loss:1.2370\n",
      "Epoch:12,Loss:1.2370\n",
      "Epoch:13,Loss:1.2370\n",
      "Epoch:14,Loss:1.2370\n",
      "Epoch:15,Loss:1.2370\n",
      "Epoch:16,Loss:1.2370\n",
      "Epoch:17,Loss:1.2370\n",
      "Epoch:18,Loss:1.2370\n",
      "Epoch:19,Loss:1.2370\n",
      "Epoch:20,Loss:1.2370\n",
      "Epoch:21,Loss:1.2370\n",
      "Epoch:22,Loss:1.2370\n",
      "Epoch:23,Loss:1.2370\n",
      "Epoch:24,Loss:1.2370\n",
      "Epoch:25,Loss:1.2370\n",
      "Epoch:26,Loss:1.2370\n",
      "Epoch:27,Loss:1.2370\n",
      "Epoch:28,Loss:1.2370\n",
      "Epoch:29,Loss:1.2370\n",
      "Epoch:30,Loss:1.2370\n",
      "Epoch:31,Loss:1.2370\n",
      "Epoch:32,Loss:1.2370\n",
      "Epoch:33,Loss:1.2370\n",
      "Epoch:34,Loss:1.2370\n",
      "Epoch:35,Loss:1.2370\n",
      "Epoch:36,Loss:1.2370\n",
      "Epoch:37,Loss:1.2370\n",
      "Epoch:38,Loss:1.2370\n",
      "Epoch:39,Loss:1.2370\n",
      "Epoch:40,Loss:1.2370\n",
      "Epoch:41,Loss:1.2370\n",
      "Epoch:42,Loss:1.2370\n",
      "Epoch:43,Loss:1.2370\n",
      "Epoch:44,Loss:1.2370\n",
      "Epoch:45,Loss:1.2370\n",
      "Epoch:46,Loss:1.2370\n",
      "Epoch:47,Loss:1.2370\n",
      "Epoch:48,Loss:1.2370\n",
      "Epoch:49,Loss:1.2370\n",
      "Epoch:50,Loss:1.2370\n",
      "Epoch:51,Loss:1.2370\n",
      "Epoch:52,Loss:1.2370\n",
      "Epoch:53,Loss:1.2370\n",
      "Epoch:54,Loss:1.2370\n",
      "Epoch:55,Loss:1.2370\n",
      "Epoch:56,Loss:1.2370\n",
      "Epoch:57,Loss:1.2370\n",
      "Epoch:58,Loss:1.2370\n",
      "Epoch:59,Loss:1.2370\n",
      "Epoch:60,Loss:1.2370\n",
      "Epoch:61,Loss:1.2370\n",
      "Epoch:62,Loss:1.2370\n",
      "Epoch:63,Loss:1.2370\n",
      "Epoch:64,Loss:1.2370\n",
      "Epoch:65,Loss:1.2370\n",
      "Epoch:66,Loss:1.2370\n",
      "Epoch:67,Loss:1.2370\n",
      "Epoch:68,Loss:1.2370\n",
      "Epoch:69,Loss:1.2370\n",
      "Epoch:70,Loss:1.2370\n",
      "Epoch:71,Loss:1.2370\n",
      "Epoch:72,Loss:1.2370\n",
      "Epoch:73,Loss:1.2370\n",
      "Epoch:74,Loss:1.2370\n",
      "Epoch:75,Loss:1.2370\n",
      "Epoch:76,Loss:1.2370\n",
      "Epoch:77,Loss:1.2370\n",
      "Epoch:78,Loss:1.2370\n",
      "Epoch:79,Loss:1.2370\n",
      "Epoch:80,Loss:1.2370\n",
      "Epoch:81,Loss:1.2370\n",
      "Epoch:82,Loss:1.2370\n",
      "Epoch:83,Loss:1.2370\n",
      "Epoch:84,Loss:1.2370\n",
      "Epoch:85,Loss:1.2370\n",
      "Epoch:86,Loss:1.2370\n",
      "Epoch:87,Loss:1.2370\n",
      "Epoch:88,Loss:1.2370\n",
      "Epoch:89,Loss:1.2370\n",
      "Epoch:90,Loss:1.2370\n",
      "Epoch:91,Loss:1.2370\n",
      "Epoch:92,Loss:1.2370\n",
      "Epoch:93,Loss:1.2370\n",
      "Epoch:94,Loss:1.2370\n",
      "Epoch:95,Loss:1.2370\n",
      "Epoch:96,Loss:1.2370\n",
      "Epoch:97,Loss:1.2370\n",
      "Epoch:98,Loss:1.2370\n",
      "Epoch:99,Loss:1.2370\n",
      "Epoch:100,Loss:1.2370\n",
      "Epoch:101,Loss:1.2370\n",
      "Epoch:102,Loss:1.2370\n",
      "Epoch:103,Loss:1.2370\n",
      "Epoch:104,Loss:1.2370\n",
      "Epoch:105,Loss:1.2370\n",
      "Epoch:106,Loss:1.2370\n",
      "Epoch:107,Loss:1.2370\n",
      "Epoch:108,Loss:1.2370\n",
      "Epoch:109,Loss:1.2370\n",
      "Epoch:110,Loss:1.2370\n",
      "Epoch:111,Loss:1.2370\n",
      "Epoch:112,Loss:1.2370\n",
      "Epoch:113,Loss:1.2370\n",
      "Epoch:114,Loss:1.2370\n",
      "Epoch:115,Loss:1.2370\n",
      "Epoch:116,Loss:1.2370\n",
      "Epoch:117,Loss:1.2370\n",
      "Epoch:118,Loss:1.2370\n",
      "Epoch:119,Loss:1.2370\n",
      "Epoch:120,Loss:1.2370\n",
      "Epoch:121,Loss:1.2370\n",
      "Epoch:122,Loss:1.2370\n",
      "Epoch:123,Loss:1.2370\n",
      "Epoch:124,Loss:1.2370\n",
      "Epoch:125,Loss:1.2370\n",
      "Epoch:126,Loss:1.2370\n",
      "Epoch:127,Loss:1.2370\n",
      "Epoch:128,Loss:1.2370\n",
      "Epoch:129,Loss:1.2370\n",
      "Epoch:130,Loss:1.2370\n",
      "Epoch:131,Loss:1.2370\n",
      "Epoch:132,Loss:1.2370\n",
      "Epoch:133,Loss:1.2370\n",
      "Epoch:134,Loss:1.2370\n",
      "Epoch:135,Loss:1.2370\n",
      "Epoch:136,Loss:1.2370\n",
      "Epoch:137,Loss:1.2370\n",
      "Epoch:138,Loss:1.2370\n",
      "Epoch:139,Loss:1.2370\n",
      "Epoch:140,Loss:1.2370\n",
      "Epoch:141,Loss:1.2370\n",
      "Epoch:142,Loss:1.2370\n",
      "Epoch:143,Loss:1.2370\n",
      "Epoch:144,Loss:1.2370\n",
      "Epoch:145,Loss:1.2370\n",
      "Epoch:146,Loss:1.2370\n",
      "Epoch:147,Loss:1.2370\n",
      "Epoch:148,Loss:1.2370\n",
      "Epoch:149,Loss:1.2370\n",
      "Epoch:150,Loss:1.2370\n",
      "Epoch:151,Loss:1.2370\n",
      "Epoch:152,Loss:1.2370\n",
      "Epoch:153,Loss:1.2370\n",
      "Epoch:154,Loss:1.2370\n",
      "Epoch:155,Loss:1.2370\n",
      "Epoch:156,Loss:1.2370\n",
      "Epoch:157,Loss:1.2370\n",
      "Epoch:158,Loss:1.2370\n",
      "Epoch:159,Loss:1.2370\n",
      "Epoch:160,Loss:1.2370\n",
      "Epoch:161,Loss:1.2370\n",
      "Epoch:162,Loss:1.2370\n",
      "Epoch:163,Loss:1.2370\n",
      "Epoch:164,Loss:1.2370\n",
      "Epoch:165,Loss:1.2370\n",
      "Epoch:166,Loss:1.2370\n",
      "Epoch:167,Loss:1.2370\n",
      "Epoch:168,Loss:1.2370\n",
      "Epoch:169,Loss:1.2370\n",
      "Epoch:170,Loss:1.2370\n",
      "Epoch:171,Loss:1.2370\n",
      "Epoch:172,Loss:1.2370\n",
      "Epoch:173,Loss:1.2370\n",
      "Epoch:174,Loss:1.2370\n",
      "Epoch:175,Loss:1.2370\n",
      "Epoch:176,Loss:1.2370\n",
      "Epoch:177,Loss:1.2370\n",
      "Epoch:178,Loss:1.2370\n",
      "Epoch:179,Loss:1.2370\n",
      "Epoch:180,Loss:1.2370\n",
      "Epoch:181,Loss:1.2370\n",
      "Epoch:182,Loss:1.2370\n",
      "Epoch:183,Loss:1.2370\n",
      "Epoch:184,Loss:1.2370\n",
      "Epoch:185,Loss:1.2370\n",
      "Epoch:186,Loss:1.2370\n",
      "Epoch:187,Loss:1.2370\n",
      "Epoch:188,Loss:1.2370\n",
      "Epoch:189,Loss:1.2370\n",
      "Epoch:190,Loss:1.2370\n",
      "Epoch:191,Loss:1.2370\n",
      "Epoch:192,Loss:1.2370\n",
      "Epoch:193,Loss:1.2370\n",
      "Epoch:194,Loss:1.2370\n",
      "Epoch:195,Loss:1.2370\n",
      "Epoch:196,Loss:1.2370\n",
      "Epoch:197,Loss:1.2370\n",
      "Epoch:198,Loss:1.2370\n",
      "Epoch:199,Loss:1.2370\n",
      "Epoch:200,Loss:1.2370\n"
     ]
    }
   ],
   "source": [
    "def treine(inp,out,epochs):\n",
    "    #inp = pickle.load(open(\"inp\", \"rb\"))\n",
    "    #out = pickle.load(open(\"out\", \"rb\"))\n",
    "    n_batch = np.shape(inp)[0]\n",
    "    batch_size = np.shape(inp)[1]\n",
    "    n_examples = np.shape(inp)[2]\n",
    "    for epoch in range(epochs):\n",
    "        for n_batch_idx in range(n_batch):\n",
    "            I = inp[n_batch_idx]\n",
    "            A = out[n_batch_idx]\n",
    "            #plt.plot(I,A)\n",
    "            #plt.show()\n",
    "            I = I.float()\n",
    "            A = A.float()\n",
    "            recon = model(I)\n",
    "            loss = torch.mean((recon-A)**2)\n",
    "            optimizer.zero_grad()\n",
    "            loss.backward()\n",
    "            optimizer.step()\n",
    "            #s.exit()\n",
    "        print(f'Epoch:{epoch+1},Loss:{loss.item():.4f}')\n",
    "\n",
    "\n",
    "\n",
    "treine(inp, out, 200)"
   ]
  },
  {
   "cell_type": "code",
   "execution_count": null,
   "metadata": {},
   "outputs": [],
   "source": []
  },
  {
   "cell_type": "code",
   "execution_count": null,
   "metadata": {},
   "outputs": [],
   "source": []
  },
  {
   "cell_type": "code",
   "execution_count": null,
   "metadata": {},
   "outputs": [],
   "source": []
  },
  {
   "cell_type": "code",
   "execution_count": null,
   "metadata": {},
   "outputs": [],
   "source": []
  },
  {
   "cell_type": "code",
   "execution_count": null,
   "metadata": {},
   "outputs": [],
   "source": []
  },
  {
   "cell_type": "code",
   "execution_count": null,
   "metadata": {},
   "outputs": [],
   "source": []
  },
  {
   "cell_type": "code",
   "execution_count": null,
   "metadata": {},
   "outputs": [],
   "source": []
  },
  {
   "cell_type": "code",
   "execution_count": 24,
   "metadata": {},
   "outputs": [
    {
     "data": {
      "image/png": "[encoded data removed]",
      "text/plain": [
       "<Figure size 432x288 with 1 Axes>"
      ]
     },
     "metadata": {
      "needs_background": "light"
     },
     "output_type": "display_data"
    },
    {
     "name": "stdout",
     "output_type": "stream",
     "text": [
      "tensor([ 0.0000,  0.8596,  0.8785,  0.0381, -0.8395, -0.8960, -0.0762,  0.8182,\n",
      "         0.9123,  0.1142, -0.6265, -0.7129, -0.1141,  0.5658,  0.6733,  0.1325,\n",
      "        -0.5097, -0.6349, -0.1476,  0.4580,  0.5977,  0.1597, -0.4104, -0.5618,\n",
      "        -0.1693,  0.3666,  0.5272,  0.1765, -0.3264, -0.4940])\n",
      "--------------------\n",
      "tensor([ 0.0000,  0.8596,  0.8785,  0.0381, -0.8395, -0.8960, -0.0762,  0.8182,\n",
      "         0.9123,  0.1142, -0.6265, -0.7129, -0.1141,  0.5658,  0.6733,  0.1325,\n",
      "        -0.5097, -0.6349, -0.1476,  0.4580,  0.5977,  0.1597, -0.4104, -0.5618,\n",
      "        -0.1693,  0.3666,  0.5272,  0.1765, -0.3264, -0.4940])\n",
      "--------------------\n",
      "tensor([ 0.0000,  1.0345,  2.0690,  3.1034,  4.1379,  5.1724,  6.2069,  7.2414,\n",
      "         8.2759,  9.3103, 10.3448, 11.3793, 12.4138, 13.4483, 14.4828, 15.5172,\n",
      "        16.5517, 17.5862, 18.6207, 19.6552, 20.6897, 21.7241, 22.7586, 23.7931,\n",
      "        24.8276, 25.8621, 26.8966, 27.9310, 28.9655, 30.0000])\n"
     ]
    },
    {
     "ename": "RuntimeError",
     "evalue": "mat1 and mat2 shapes cannot be multiplied (1x30 and 1x300)",
     "output_type": "error",
     "traceback": [
      "\u001b[0;31m---------------------------------------------------------------------------\u001b[0m",
      "\u001b[0;31mRuntimeError\u001b[0m                              Traceback (most recent call last)",
      "\u001b[1;32m/home/v/Desktop/Biology/method_prove/AnomaliaE.ipynb Cell 11\u001b[0m in \u001b[0;36m<cell line: 31>\u001b[0;34m()\u001b[0m\n\u001b[1;32m     <a href='vscode-notebook-cell:/home/v/Desktop/Biology/method_prove/AnomaliaE.ipynb#X12sZmlsZQ%3D%3D?line=25'>26</a>\u001b[0m         \u001b[39mprint\u001b[39m(\u001b[39mf\u001b[39m\u001b[39m'\u001b[39m\u001b[39mEpoch:\u001b[39m\u001b[39m{\u001b[39;00mepoch\u001b[39m+\u001b[39m\u001b[39m1\u001b[39m\u001b[39m}\u001b[39;00m\u001b[39m,Loss:\u001b[39m\u001b[39m{\u001b[39;00mloss\u001b[39m.\u001b[39mitem()\u001b[39m:\u001b[39;00m\u001b[39m.4f\u001b[39m\u001b[39m}\u001b[39;00m\u001b[39m'\u001b[39m)\n\u001b[1;32m     <a href='vscode-notebook-cell:/home/v/Desktop/Biology/method_prove/AnomaliaE.ipynb#X12sZmlsZQ%3D%3D?line=26'>27</a>\u001b[0m         s\u001b[39m.\u001b[39mexit()\n\u001b[0;32m---> <a href='vscode-notebook-cell:/home/v/Desktop/Biology/method_prove/AnomaliaE.ipynb#X12sZmlsZQ%3D%3D?line=30'>31</a>\u001b[0m treine(\u001b[39m200\u001b[39;49m)\n",
      "\u001b[1;32m/home/v/Desktop/Biology/method_prove/AnomaliaE.ipynb Cell 11\u001b[0m in \u001b[0;36mtreine\u001b[0;34m(epochs)\u001b[0m\n\u001b[1;32m     <a href='vscode-notebook-cell:/home/v/Desktop/Biology/method_prove/AnomaliaE.ipynb#X12sZmlsZQ%3D%3D?line=18'>19</a>\u001b[0m \u001b[39mfor\u001b[39;00m i \u001b[39min\u001b[39;00m I:\n\u001b[1;32m     <a href='vscode-notebook-cell:/home/v/Desktop/Biology/method_prove/AnomaliaE.ipynb#X12sZmlsZQ%3D%3D?line=19'>20</a>\u001b[0m     \u001b[39mprint\u001b[39m(i)\n\u001b[0;32m---> <a href='vscode-notebook-cell:/home/v/Desktop/Biology/method_prove/AnomaliaE.ipynb#X12sZmlsZQ%3D%3D?line=20'>21</a>\u001b[0m     recon, latent \u001b[39m=\u001b[39m model(i)\n\u001b[1;32m     <a href='vscode-notebook-cell:/home/v/Desktop/Biology/method_prove/AnomaliaE.ipynb#X12sZmlsZQ%3D%3D?line=21'>22</a>\u001b[0m     loss \u001b[39m=\u001b[39m torch\u001b[39m.\u001b[39mmean((recon\u001b[39m-\u001b[39mA)\u001b[39m*\u001b[39m\u001b[39m*\u001b[39m\u001b[39m2\u001b[39m)\n\u001b[1;32m     <a href='vscode-notebook-cell:/home/v/Desktop/Biology/method_prove/AnomaliaE.ipynb#X12sZmlsZQ%3D%3D?line=22'>23</a>\u001b[0m     optimizer\u001b[39m.\u001b[39mzero_grad()\n",
      "File \u001b[0;32m~/.local/lib/python3.10/site-packages/torch/nn/modules/module.py:1130\u001b[0m, in \u001b[0;36mModule._call_impl\u001b[0;34m(self, *input, **kwargs)\u001b[0m\n\u001b[1;32m   1126\u001b[0m \u001b[39m# If we don't have any hooks, we want to skip the rest of the logic in\u001b[39;00m\n\u001b[1;32m   1127\u001b[0m \u001b[39m# this function, and just call forward.\u001b[39;00m\n\u001b[1;32m   1128\u001b[0m \u001b[39mif\u001b[39;00m \u001b[39mnot\u001b[39;00m (\u001b[39mself\u001b[39m\u001b[39m.\u001b[39m_backward_hooks \u001b[39mor\u001b[39;00m \u001b[39mself\u001b[39m\u001b[39m.\u001b[39m_forward_hooks \u001b[39mor\u001b[39;00m \u001b[39mself\u001b[39m\u001b[39m.\u001b[39m_forward_pre_hooks \u001b[39mor\u001b[39;00m _global_backward_hooks\n\u001b[1;32m   1129\u001b[0m         \u001b[39mor\u001b[39;00m _global_forward_hooks \u001b[39mor\u001b[39;00m _global_forward_pre_hooks):\n\u001b[0;32m-> 1130\u001b[0m     \u001b[39mreturn\u001b[39;00m forward_call(\u001b[39m*\u001b[39;49m\u001b[39minput\u001b[39;49m, \u001b[39m*\u001b[39;49m\u001b[39m*\u001b[39;49mkwargs)\n\u001b[1;32m   1131\u001b[0m \u001b[39m# Do not call functions when jit is used\u001b[39;00m\n\u001b[1;32m   1132\u001b[0m full_backward_hooks, non_full_backward_hooks \u001b[39m=\u001b[39m [], []\n",
      "\u001b[1;32m/home/v/Desktop/Biology/method_prove/AnomaliaE.ipynb Cell 11\u001b[0m in \u001b[0;36mAutoencoder.forward\u001b[0;34m(self, x)\u001b[0m\n\u001b[1;32m     <a href='vscode-notebook-cell:/home/v/Desktop/Biology/method_prove/AnomaliaE.ipynb#X12sZmlsZQ%3D%3D?line=14'>15</a>\u001b[0m \u001b[39mdef\u001b[39;00m \u001b[39mforward\u001b[39m(\u001b[39mself\u001b[39m, x):\n\u001b[0;32m---> <a href='vscode-notebook-cell:/home/v/Desktop/Biology/method_prove/AnomaliaE.ipynb#X12sZmlsZQ%3D%3D?line=15'>16</a>\u001b[0m     encoded \u001b[39m=\u001b[39m \u001b[39mself\u001b[39;49m\u001b[39m.\u001b[39;49mencoder(x)\n\u001b[1;32m     <a href='vscode-notebook-cell:/home/v/Desktop/Biology/method_prove/AnomaliaE.ipynb#X12sZmlsZQ%3D%3D?line=16'>17</a>\u001b[0m     \u001b[39mreturn\u001b[39;00m encoded\n",
      "File \u001b[0;32m~/.local/lib/python3.10/site-packages/torch/nn/modules/module.py:1130\u001b[0m, in \u001b[0;36mModule._call_impl\u001b[0;34m(self, *input, **kwargs)\u001b[0m\n\u001b[1;32m   1126\u001b[0m \u001b[39m# If we don't have any hooks, we want to skip the rest of the logic in\u001b[39;00m\n\u001b[1;32m   1127\u001b[0m \u001b[39m# this function, and just call forward.\u001b[39;00m\n\u001b[1;32m   1128\u001b[0m \u001b[39mif\u001b[39;00m \u001b[39mnot\u001b[39;00m (\u001b[39mself\u001b[39m\u001b[39m.\u001b[39m_backward_hooks \u001b[39mor\u001b[39;00m \u001b[39mself\u001b[39m\u001b[39m.\u001b[39m_forward_hooks \u001b[39mor\u001b[39;00m \u001b[39mself\u001b[39m\u001b[39m.\u001b[39m_forward_pre_hooks \u001b[39mor\u001b[39;00m _global_backward_hooks\n\u001b[1;32m   1129\u001b[0m         \u001b[39mor\u001b[39;00m _global_forward_hooks \u001b[39mor\u001b[39;00m _global_forward_pre_hooks):\n\u001b[0;32m-> 1130\u001b[0m     \u001b[39mreturn\u001b[39;00m forward_call(\u001b[39m*\u001b[39;49m\u001b[39minput\u001b[39;49m, \u001b[39m*\u001b[39;49m\u001b[39m*\u001b[39;49mkwargs)\n\u001b[1;32m   1131\u001b[0m \u001b[39m# Do not call functions when jit is used\u001b[39;00m\n\u001b[1;32m   1132\u001b[0m full_backward_hooks, non_full_backward_hooks \u001b[39m=\u001b[39m [], []\n",
      "File \u001b[0;32m~/.local/lib/python3.10/site-packages/torch/nn/modules/container.py:139\u001b[0m, in \u001b[0;36mSequential.forward\u001b[0;34m(self, input)\u001b[0m\n\u001b[1;32m    137\u001b[0m \u001b[39mdef\u001b[39;00m \u001b[39mforward\u001b[39m(\u001b[39mself\u001b[39m, \u001b[39minput\u001b[39m):\n\u001b[1;32m    138\u001b[0m     \u001b[39mfor\u001b[39;00m module \u001b[39min\u001b[39;00m \u001b[39mself\u001b[39m:\n\u001b[0;32m--> 139\u001b[0m         \u001b[39minput\u001b[39m \u001b[39m=\u001b[39m module(\u001b[39minput\u001b[39;49m)\n\u001b[1;32m    140\u001b[0m     \u001b[39mreturn\u001b[39;00m \u001b[39minput\u001b[39m\n",
      "File \u001b[0;32m~/.local/lib/python3.10/site-packages/torch/nn/modules/module.py:1130\u001b[0m, in \u001b[0;36mModule._call_impl\u001b[0;34m(self, *input, **kwargs)\u001b[0m\n\u001b[1;32m   1126\u001b[0m \u001b[39m# If we don't have any hooks, we want to skip the rest of the logic in\u001b[39;00m\n\u001b[1;32m   1127\u001b[0m \u001b[39m# this function, and just call forward.\u001b[39;00m\n\u001b[1;32m   1128\u001b[0m \u001b[39mif\u001b[39;00m \u001b[39mnot\u001b[39;00m (\u001b[39mself\u001b[39m\u001b[39m.\u001b[39m_backward_hooks \u001b[39mor\u001b[39;00m \u001b[39mself\u001b[39m\u001b[39m.\u001b[39m_forward_hooks \u001b[39mor\u001b[39;00m \u001b[39mself\u001b[39m\u001b[39m.\u001b[39m_forward_pre_hooks \u001b[39mor\u001b[39;00m _global_backward_hooks\n\u001b[1;32m   1129\u001b[0m         \u001b[39mor\u001b[39;00m _global_forward_hooks \u001b[39mor\u001b[39;00m _global_forward_pre_hooks):\n\u001b[0;32m-> 1130\u001b[0m     \u001b[39mreturn\u001b[39;00m forward_call(\u001b[39m*\u001b[39;49m\u001b[39minput\u001b[39;49m, \u001b[39m*\u001b[39;49m\u001b[39m*\u001b[39;49mkwargs)\n\u001b[1;32m   1131\u001b[0m \u001b[39m# Do not call functions when jit is used\u001b[39;00m\n\u001b[1;32m   1132\u001b[0m full_backward_hooks, non_full_backward_hooks \u001b[39m=\u001b[39m [], []\n",
      "File \u001b[0;32m~/.local/lib/python3.10/site-packages/torch/nn/modules/linear.py:114\u001b[0m, in \u001b[0;36mLinear.forward\u001b[0;34m(self, input)\u001b[0m\n\u001b[1;32m    113\u001b[0m \u001b[39mdef\u001b[39;00m \u001b[39mforward\u001b[39m(\u001b[39mself\u001b[39m, \u001b[39minput\u001b[39m: Tensor) \u001b[39m-\u001b[39m\u001b[39m>\u001b[39m Tensor:\n\u001b[0;32m--> 114\u001b[0m     \u001b[39mreturn\u001b[39;00m F\u001b[39m.\u001b[39;49mlinear(\u001b[39minput\u001b[39;49m, \u001b[39mself\u001b[39;49m\u001b[39m.\u001b[39;49mweight, \u001b[39mself\u001b[39;49m\u001b[39m.\u001b[39;49mbias)\n",
      "\u001b[0;31mRuntimeError\u001b[0m: mat1 and mat2 shapes cannot be multiplied (1x30 and 1x300)"
     ]
    }
   ],
   "source": [
    "def treine(epochs):\n",
    "    inp = pickle.load(open(\"inp\", \"rb\"))\n",
    "    out = pickle.load(open(\"out\", \"rb\"))\n",
    "    n_batch = np.shape(inp)[0]\n",
    "    batch_size = np.shape(inp)[1]\n",
    "    n_examples = np.shape(inp)[2]\n",
    "    for epoch in range(epochs):\n",
    "        for batch_idx in range(n_batch):\n",
    "            I = inp[batch_idx]\n",
    "            A = out[batch_idx]\n",
    "            plt.plot(I[0],A[0])\n",
    "            plt.show()\n",
    "            I = I.float()\n",
    "            A = A.float()\n",
    "            print(A[0])\n",
    "            print('-'*20)\n",
    "            print(A[0])\n",
    "            print('-'*20)\n",
    "            for i in I:\n",
    "                for j in range(len(n_examples)):\n",
    "                    print(i)\n",
    "                    recon, latent = model(i[j])\n",
    "                    loss = torch.mean((recon-A)**2)\n",
    "                    optimizer.zero_grad()\n",
    "                    loss.backward()\n",
    "                    optimizer.step()\n",
    "        print(f'Epoch:{epoch+1},Loss:{loss.item():.4f}')\n",
    "        s.exit()\n",
    "\n",
    "\n",
    "\n",
    "treine(200)\n",
    "# print('end')\n",
    "# -------------------------------------------------------------------------------\n",
    "# --------------------- SALVANDO-------------------------------------------------\n",
    "# -------------------------------------------------------------------------------\n",
    "# PATH_save='Estado_Box_2_with_two_latent.pt'\n",
    "##PATH_load = 'Estado_Box_2_with_two_latent.pt'\n",
    "#torch.save(model.state_dict(), PATH_save)\n",
    "# s.exit()\n",
    "##model.load_state_dict(torch.load(PATH_load))\n",
    "#torch.save(model.state_dict(), PATH_save)\n"
   ]
  },
  {
   "cell_type": "markdown",
   "metadata": {},
   "source": [
    "# \n",
    "# GRÁFICOS\n",
    "# "
   ]
  },
  {
   "cell_type": "code",
   "execution_count": null,
   "metadata": {},
   "outputs": [],
   "source": [
    "def Latent_values_Scynet():\n",
    "    for aux in range(n_batch):\n",
    "        O = inp[aux].float()\n",
    "        Q = question[aux].float()\n",
    "        A = out[aux].float()\n",
    "        j = J[aux]\n",
    "        x = np.zeros(np.shape(j)[0])\n",
    "        y1 = np.zeros(np.shape(j)[0])\n",
    "        y2 = np.zeros(np.shape(j)[0])\n",
    "        recon, latent = model(O, Q)\n",
    "        for i in range(0, 499):\n",
    "            x[i] = j[i]\n",
    "            y1[i] = latent[i, 0]\n",
    "            y2[i] = latent[i, 1]\n",
    "        plt.scatter(x, y1, label='Latent Activation 1')\n",
    "        plt.scatter(x, y2, label='Latent Activation 2')\n",
    "        plt.xlabel('Momento angular total')\n",
    "        plt.ylabel('Latent Activation')\n",
    "        plt.legend()\n",
    "        plt.pause(1.5)\n",
    "        plt.close()\n",
    "\n",
    "    plt.show()\n",
    "\n",
    "\n",
    "Latent_values_Scynet()\n",
    "# s.exit()\n",
    "# -------------------------------------------------------------------------------\n"
   ]
  },
  {
   "cell_type": "markdown",
   "metadata": {},
   "source": [
    "# An approach to predict when the prelude of mitosis occur"
   ]
  }
 ],
 "metadata": {
  "kernelspec": {
   "display_name": "Python 3.10.4 64-bit",
   "language": "python",
   "name": "python3"
  },
  "language_info": {
   "codemirror_mode": {
    "name": "ipython",
    "version": 3
   },
   "file_extension": ".py",
   "mimetype": "text/x-python",
   "name": "python",
   "nbconvert_exporter": "python",
   "pygments_lexer": "ipython3",
   "version": "3.10.4"
  },
  "orig_nbformat": 4,
  "vscode": {
   "interpreter": {
    "hash": "916dbcbb3f70747c44a77c7bcd40155683ae19c65e1c03b4aa3499c5328201f1"
   }
  }
 },
 "nbformat": 4,
 "nbformat_minor": 2
}
